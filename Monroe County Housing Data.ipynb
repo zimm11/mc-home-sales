{
 "cells": [
  {
   "cell_type": "markdown",
   "metadata": {},
   "source": [
    "Monroe County Housing Data - Sale Price Prediction Project\n",
    "-----------------------------------------------------------------------\n",
    "Author: Chris Zimmerman\n",
    "-----------------------------------------------------------------------\n",
    "Python project analyzing Monroe County Home sales over the last 3 year period. CSV files of home sale data pulled from Monroe County Real Property Portal at https://www.monroecounty.gov/etc/rp/search2.php. Utilizes the Pandas, Matplotlib, and Numpy libraries to analyze and clean the data.\n",
    "\n",
    "The goal of the project is to utilize a machine learning library (scikit-learn) to create a model to predict home sale price based on the details and specifications of the home with at least 70% accuracy. After meeting this benchmark the model will be implemented into a web interface using the Flask framework so a user can receive a prediction for the sale price of their home. Project is in progress."
   ]
  },
  {
   "cell_type": "code",
   "execution_count": 1,
   "metadata": {},
   "outputs": [],
   "source": [
    "import pandas as pd\n",
    "import numpy as np\n",
    "import matplotlib.pyplot as plt \n",
    "import mpl_toolkits \n",
    "%matplotlib inline \n",
    "import sklearn"
   ]
  },
  {
   "cell_type": "code",
   "execution_count": 2,
   "metadata": {},
   "outputs": [
    {
     "data": {
      "text/html": [
       "<div>\n",
       "<style scoped>\n",
       "    .dataframe tbody tr th:only-of-type {\n",
       "        vertical-align: middle;\n",
       "    }\n",
       "\n",
       "    .dataframe tbody tr th {\n",
       "        vertical-align: top;\n",
       "    }\n",
       "\n",
       "    .dataframe thead th {\n",
       "        text-align: right;\n",
       "    }\n",
       "</style>\n",
       "<table border=\"1\" class=\"dataframe\">\n",
       "  <thead>\n",
       "    <tr style=\"text-align: right;\">\n",
       "      <th></th>\n",
       "      <th>Street #</th>\n",
       "      <th>Street Name</th>\n",
       "      <th>City</th>\n",
       "      <th>Zip Code</th>\n",
       "      <th>Parcel ID</th>\n",
       "      <th>SWIS Code</th>\n",
       "      <th>Municipality</th>\n",
       "      <th>School Code</th>\n",
       "      <th>School Name</th>\n",
       "      <th>Property Class Code</th>\n",
       "      <th>...</th>\n",
       "      <th>Year Built</th>\n",
       "      <th># Bedrooms</th>\n",
       "      <th># Bathrooms</th>\n",
       "      <th># Half Bathrooms</th>\n",
       "      <th># Fireplaces</th>\n",
       "      <th># Kitchens</th>\n",
       "      <th>Total Assessed Value</th>\n",
       "      <th>Land Assessed Value</th>\n",
       "      <th>Sale Price</th>\n",
       "      <th>Sale Date</th>\n",
       "    </tr>\n",
       "  </thead>\n",
       "  <tbody>\n",
       "    <tr>\n",
       "      <td>0</td>\n",
       "      <td>237</td>\n",
       "      <td>Clark St</td>\n",
       "      <td>Brockport</td>\n",
       "      <td>14420</td>\n",
       "      <td>068.11-4-1</td>\n",
       "      <td>265201</td>\n",
       "      <td>Brockport</td>\n",
       "      <td>265201</td>\n",
       "      <td>Brockport Central</td>\n",
       "      <td>NaN</td>\n",
       "      <td>...</td>\n",
       "      <td>1960.0</td>\n",
       "      <td>5.0</td>\n",
       "      <td>3.0</td>\n",
       "      <td>0.0</td>\n",
       "      <td>0.0</td>\n",
       "      <td>1.0</td>\n",
       "      <td>119500</td>\n",
       "      <td>38300</td>\n",
       "      <td>155000</td>\n",
       "      <td>7/1/19</td>\n",
       "    </tr>\n",
       "    <tr>\n",
       "      <td>1</td>\n",
       "      <td>28</td>\n",
       "      <td>Goldenhill Ln</td>\n",
       "      <td>Brockport</td>\n",
       "      <td>14420</td>\n",
       "      <td>083.01-1-64</td>\n",
       "      <td>265289</td>\n",
       "      <td>Sweden</td>\n",
       "      <td>265201</td>\n",
       "      <td>Brockport Central</td>\n",
       "      <td>NaN</td>\n",
       "      <td>...</td>\n",
       "      <td>2015.0</td>\n",
       "      <td>4.0</td>\n",
       "      <td>2.0</td>\n",
       "      <td>1.0</td>\n",
       "      <td>0.0</td>\n",
       "      <td>1.0</td>\n",
       "      <td>178500</td>\n",
       "      <td>33900</td>\n",
       "      <td>199990</td>\n",
       "      <td>7/1/19</td>\n",
       "    </tr>\n",
       "    <tr>\n",
       "      <td>2</td>\n",
       "      <td>1</td>\n",
       "      <td>Whitney Road West</td>\n",
       "      <td>Penfield</td>\n",
       "      <td>14526</td>\n",
       "      <td>139.14-1-1</td>\n",
       "      <td>264489</td>\n",
       "      <td>Perinton</td>\n",
       "      <td>264201</td>\n",
       "      <td>Penfield Central 1</td>\n",
       "      <td>NaN</td>\n",
       "      <td>...</td>\n",
       "      <td>1929.0</td>\n",
       "      <td>3.0</td>\n",
       "      <td>1.0</td>\n",
       "      <td>0.0</td>\n",
       "      <td>1.0</td>\n",
       "      <td>1.0</td>\n",
       "      <td>205300</td>\n",
       "      <td>33600</td>\n",
       "      <td>230000</td>\n",
       "      <td>6/28/19</td>\n",
       "    </tr>\n",
       "    <tr>\n",
       "      <td>3</td>\n",
       "      <td>1</td>\n",
       "      <td>Brooktree Dr</td>\n",
       "      <td>Penfield</td>\n",
       "      <td>14526</td>\n",
       "      <td>139.14-1-36</td>\n",
       "      <td>264489</td>\n",
       "      <td>Perinton</td>\n",
       "      <td>264401</td>\n",
       "      <td>Fairport Central</td>\n",
       "      <td>NaN</td>\n",
       "      <td>...</td>\n",
       "      <td>1965.0</td>\n",
       "      <td>3.0</td>\n",
       "      <td>1.0</td>\n",
       "      <td>0.0</td>\n",
       "      <td>0.0</td>\n",
       "      <td>1.0</td>\n",
       "      <td>132600</td>\n",
       "      <td>33700</td>\n",
       "      <td>171000</td>\n",
       "      <td>6/28/19</td>\n",
       "    </tr>\n",
       "    <tr>\n",
       "      <td>4</td>\n",
       "      <td>5</td>\n",
       "      <td>Kerry Hl</td>\n",
       "      <td>Fairport</td>\n",
       "      <td>14450</td>\n",
       "      <td>153.02-6-68</td>\n",
       "      <td>264489</td>\n",
       "      <td>Perinton</td>\n",
       "      <td>264401</td>\n",
       "      <td>Fairport Central</td>\n",
       "      <td>NaN</td>\n",
       "      <td>...</td>\n",
       "      <td>1990.0</td>\n",
       "      <td>4.0</td>\n",
       "      <td>2.0</td>\n",
       "      <td>1.0</td>\n",
       "      <td>1.0</td>\n",
       "      <td>1.0</td>\n",
       "      <td>298100</td>\n",
       "      <td>70500</td>\n",
       "      <td>285000</td>\n",
       "      <td>6/28/19</td>\n",
       "    </tr>\n",
       "  </tbody>\n",
       "</table>\n",
       "<p>5 rows × 25 columns</p>\n",
       "</div>"
      ],
      "text/plain": [
       "  Street #        Street Name       City Zip Code    Parcel ID  SWIS Code  \\\n",
       "0      237           Clark St  Brockport    14420   068.11-4-1     265201   \n",
       "1       28      Goldenhill Ln  Brockport    14420  083.01-1-64     265289   \n",
       "2        1  Whitney Road West   Penfield    14526   139.14-1-1     264489   \n",
       "3        1       Brooktree Dr   Penfield    14526  139.14-1-36     264489   \n",
       "4        5           Kerry Hl   Fairport    14450  153.02-6-68     264489   \n",
       "\n",
       "  Municipality  School Code         School Name  Property Class Code  ...  \\\n",
       "0    Brockport       265201   Brockport Central                  NaN  ...   \n",
       "1       Sweden       265201   Brockport Central                  NaN  ...   \n",
       "2     Perinton       264201  Penfield Central 1                  NaN  ...   \n",
       "3     Perinton       264401    Fairport Central                  NaN  ...   \n",
       "4     Perinton       264401    Fairport Central                  NaN  ...   \n",
       "\n",
       "  Year Built # Bedrooms # Bathrooms  # Half Bathrooms  # Fireplaces  \\\n",
       "0     1960.0        5.0         3.0               0.0           0.0   \n",
       "1     2015.0        4.0         2.0               1.0           0.0   \n",
       "2     1929.0        3.0         1.0               0.0           1.0   \n",
       "3     1965.0        3.0         1.0               0.0           0.0   \n",
       "4     1990.0        4.0         2.0               1.0           1.0   \n",
       "\n",
       "   # Kitchens  Total Assessed Value  Land Assessed Value  Sale Price  \\\n",
       "0         1.0                119500                38300      155000   \n",
       "1         1.0                178500                33900      199990   \n",
       "2         1.0                205300                33600      230000   \n",
       "3         1.0                132600                33700      171000   \n",
       "4         1.0                298100                70500      285000   \n",
       "\n",
       "   Sale Date  \n",
       "0     7/1/19  \n",
       "1     7/1/19  \n",
       "2    6/28/19  \n",
       "3    6/28/19  \n",
       "4    6/28/19  \n",
       "\n",
       "[5 rows x 25 columns]"
      ]
     },
     "execution_count": 2,
     "metadata": {},
     "output_type": "execute_result"
    }
   ],
   "source": [
    "data = pd.read_csv('/Users/Chris/Desktop/PyCharmProjects/mc-home-sales/merged.csv')\n",
    "data.head()"
   ]
  },
  {
   "cell_type": "code",
   "execution_count": 3,
   "metadata": {},
   "outputs": [
    {
     "data": {
      "text/html": [
       "<div>\n",
       "<style scoped>\n",
       "    .dataframe tbody tr th:only-of-type {\n",
       "        vertical-align: middle;\n",
       "    }\n",
       "\n",
       "    .dataframe tbody tr th {\n",
       "        vertical-align: top;\n",
       "    }\n",
       "\n",
       "    .dataframe thead th {\n",
       "        text-align: right;\n",
       "    }\n",
       "</style>\n",
       "<table border=\"1\" class=\"dataframe\">\n",
       "  <thead>\n",
       "    <tr style=\"text-align: right;\">\n",
       "      <th></th>\n",
       "      <th>Floor Area</th>\n",
       "      <th>Acres</th>\n",
       "      <th>Year Built</th>\n",
       "      <th># Bedrooms</th>\n",
       "      <th># Bathrooms</th>\n",
       "      <th># Half Bathrooms</th>\n",
       "      <th># Fireplaces</th>\n",
       "      <th># Kitchens</th>\n",
       "      <th>Total Assessed Value</th>\n",
       "      <th>Land Assessed Value</th>\n",
       "      <th>Sale Price</th>\n",
       "    </tr>\n",
       "  </thead>\n",
       "  <tbody>\n",
       "    <tr>\n",
       "      <td>count</td>\n",
       "      <td>33658.000000</td>\n",
       "      <td>33664.000000</td>\n",
       "      <td>33658.000000</td>\n",
       "      <td>33658.000000</td>\n",
       "      <td>33658.000000</td>\n",
       "      <td>33658.000000</td>\n",
       "      <td>33658.000000</td>\n",
       "      <td>33658.000000</td>\n",
       "      <td>3.366400e+04</td>\n",
       "      <td>33664.000000</td>\n",
       "      <td>3.366400e+04</td>\n",
       "    </tr>\n",
       "    <tr>\n",
       "      <td>mean</td>\n",
       "      <td>1761.630400</td>\n",
       "      <td>0.655693</td>\n",
       "      <td>1966.342831</td>\n",
       "      <td>3.171698</td>\n",
       "      <td>1.613673</td>\n",
       "      <td>0.566225</td>\n",
       "      <td>0.630519</td>\n",
       "      <td>1.029889</td>\n",
       "      <td>1.721240e+05</td>\n",
       "      <td>35314.383525</td>\n",
       "      <td>1.357986e+05</td>\n",
       "    </tr>\n",
       "    <tr>\n",
       "      <td>std</td>\n",
       "      <td>660.886933</td>\n",
       "      <td>2.912915</td>\n",
       "      <td>30.387486</td>\n",
       "      <td>0.796208</td>\n",
       "      <td>0.667756</td>\n",
       "      <td>0.521427</td>\n",
       "      <td>0.611347</td>\n",
       "      <td>0.181598</td>\n",
       "      <td>1.011357e+05</td>\n",
       "      <td>21007.432204</td>\n",
       "      <td>1.900854e+05</td>\n",
       "    </tr>\n",
       "    <tr>\n",
       "      <td>min</td>\n",
       "      <td>0.000000</td>\n",
       "      <td>0.000000</td>\n",
       "      <td>1800.000000</td>\n",
       "      <td>0.000000</td>\n",
       "      <td>0.000000</td>\n",
       "      <td>0.000000</td>\n",
       "      <td>0.000000</td>\n",
       "      <td>0.000000</td>\n",
       "      <td>1.500000e+04</td>\n",
       "      <td>0.000000</td>\n",
       "      <td>0.000000e+00</td>\n",
       "    </tr>\n",
       "    <tr>\n",
       "      <td>25%</td>\n",
       "      <td>1320.000000</td>\n",
       "      <td>0.120000</td>\n",
       "      <td>1952.000000</td>\n",
       "      <td>3.000000</td>\n",
       "      <td>1.000000</td>\n",
       "      <td>0.000000</td>\n",
       "      <td>0.000000</td>\n",
       "      <td>1.000000</td>\n",
       "      <td>1.125000e+05</td>\n",
       "      <td>24500.000000</td>\n",
       "      <td>4.550000e+04</td>\n",
       "    </tr>\n",
       "    <tr>\n",
       "      <td>50%</td>\n",
       "      <td>1640.000000</td>\n",
       "      <td>0.280000</td>\n",
       "      <td>1966.000000</td>\n",
       "      <td>3.000000</td>\n",
       "      <td>2.000000</td>\n",
       "      <td>1.000000</td>\n",
       "      <td>1.000000</td>\n",
       "      <td>1.000000</td>\n",
       "      <td>1.436000e+05</td>\n",
       "      <td>31000.000000</td>\n",
       "      <td>1.250000e+05</td>\n",
       "    </tr>\n",
       "    <tr>\n",
       "      <td>75%</td>\n",
       "      <td>2052.000000</td>\n",
       "      <td>0.460000</td>\n",
       "      <td>1987.000000</td>\n",
       "      <td>4.000000</td>\n",
       "      <td>2.000000</td>\n",
       "      <td>1.000000</td>\n",
       "      <td>1.000000</td>\n",
       "      <td>1.000000</td>\n",
       "      <td>2.028000e+05</td>\n",
       "      <td>40900.000000</td>\n",
       "      <td>1.869250e+05</td>\n",
       "    </tr>\n",
       "    <tr>\n",
       "      <td>max</td>\n",
       "      <td>19350.000000</td>\n",
       "      <td>118.700000</td>\n",
       "      <td>2019.000000</td>\n",
       "      <td>10.000000</td>\n",
       "      <td>9.000000</td>\n",
       "      <td>5.000000</td>\n",
       "      <td>10.000000</td>\n",
       "      <td>4.000000</td>\n",
       "      <td>2.745500e+06</td>\n",
       "      <td>717120.000000</td>\n",
       "      <td>2.493292e+07</td>\n",
       "    </tr>\n",
       "  </tbody>\n",
       "</table>\n",
       "</div>"
      ],
      "text/plain": [
       "         Floor Area         Acres    Year Built    # Bedrooms   # Bathrooms  \\\n",
       "count  33658.000000  33664.000000  33658.000000  33658.000000  33658.000000   \n",
       "mean    1761.630400      0.655693   1966.342831      3.171698      1.613673   \n",
       "std      660.886933      2.912915     30.387486      0.796208      0.667756   \n",
       "min        0.000000      0.000000   1800.000000      0.000000      0.000000   \n",
       "25%     1320.000000      0.120000   1952.000000      3.000000      1.000000   \n",
       "50%     1640.000000      0.280000   1966.000000      3.000000      2.000000   \n",
       "75%     2052.000000      0.460000   1987.000000      4.000000      2.000000   \n",
       "max    19350.000000    118.700000   2019.000000     10.000000      9.000000   \n",
       "\n",
       "       # Half Bathrooms  # Fireplaces    # Kitchens  Total Assessed Value  \\\n",
       "count      33658.000000  33658.000000  33658.000000          3.366400e+04   \n",
       "mean           0.566225      0.630519      1.029889          1.721240e+05   \n",
       "std            0.521427      0.611347      0.181598          1.011357e+05   \n",
       "min            0.000000      0.000000      0.000000          1.500000e+04   \n",
       "25%            0.000000      0.000000      1.000000          1.125000e+05   \n",
       "50%            1.000000      1.000000      1.000000          1.436000e+05   \n",
       "75%            1.000000      1.000000      1.000000          2.028000e+05   \n",
       "max            5.000000     10.000000      4.000000          2.745500e+06   \n",
       "\n",
       "       Land Assessed Value    Sale Price  \n",
       "count         33664.000000  3.366400e+04  \n",
       "mean          35314.383525  1.357986e+05  \n",
       "std           21007.432204  1.900854e+05  \n",
       "min               0.000000  0.000000e+00  \n",
       "25%           24500.000000  4.550000e+04  \n",
       "50%           31000.000000  1.250000e+05  \n",
       "75%           40900.000000  1.869250e+05  \n",
       "max          717120.000000  2.493292e+07  "
      ]
     },
     "execution_count": 3,
     "metadata": {},
     "output_type": "execute_result"
    }
   ],
   "source": [
    "# Drop unneccesary columns and describe the initial data\n",
    "\n",
    "drop_cols = ['Street #', 'Street Name', 'Parcel ID', 'SWIS Code', 'Property Class Code',\n",
    "             'School Code', 'Exterior Wall Type', 'Zip Code']\n",
    "\n",
    "data.drop(columns=drop_cols, inplace=True) \n",
    "data.describe()"
   ]
  },
  {
   "cell_type": "code",
   "execution_count": 4,
   "metadata": {},
   "outputs": [
    {
     "name": "stdout",
     "output_type": "stream",
     "text": [
      "City                     object\n",
      "Municipality             object\n",
      "School Name              object\n",
      "Property Class Name      object\n",
      "Building Style           object\n",
      "Floor Area              float64\n",
      "Acres                   float64\n",
      "Year Built              float64\n",
      "# Bedrooms              float64\n",
      "# Bathrooms             float64\n",
      "# Half Bathrooms        float64\n",
      "# Fireplaces            float64\n",
      "# Kitchens              float64\n",
      "Total Assessed Value      int64\n",
      "Land Assessed Value       int64\n",
      "Sale Price                int64\n",
      "Sale Date                object\n",
      "dtype: object\n"
     ]
    }
   ],
   "source": [
    "print(data.dtypes)"
   ]
  },
  {
   "cell_type": "code",
   "execution_count": 5,
   "metadata": {},
   "outputs": [
    {
     "name": "stdout",
     "output_type": "stream",
     "text": [
      "Total number of homes: 33664\n",
      "Total number of features: 16\n"
     ]
    }
   ],
   "source": [
    "# Print out the number of homes and the number of features in the dataframe\n",
    "\n",
    "num_homes = data.shape[0]\n",
    "num_features = data.shape[1] - 1\n",
    "\n",
    "print(f\"Total number of homes: {num_homes}\")\n",
    "print(f\"Total number of features: {num_features}\")"
   ]
  },
  {
   "cell_type": "code",
   "execution_count": 6,
   "metadata": {},
   "outputs": [],
   "source": [
    "# Remove any outliers where the sale price is less than $10000 as they are not representative of true home values\n",
    "\n",
    "data = data.drop(data[data['Sale Price'] < 10000].index)"
   ]
  },
  {
   "cell_type": "code",
   "execution_count": 7,
   "metadata": {},
   "outputs": [
    {
     "name": "stdout",
     "output_type": "stream",
     "text": [
      "Total number of homes: 25964\n",
      "Total number of features: 16\n"
     ]
    }
   ],
   "source": [
    "# Note the after these homes are remove above the total number of homes decreases from 33,664 to 25,964\n",
    "\n",
    "num_homes = data.shape[0]\n",
    "num_features = data.shape[1] - 1\n",
    "print(f\"Total number of homes: {num_homes}\")\n",
    "print(f\"Total number of features: {num_features}\")"
   ]
  },
  {
   "cell_type": "code",
   "execution_count": 8,
   "metadata": {},
   "outputs": [],
   "source": [
    "# Remove any homes that are not of the type single family home (where 'Property Class Name' != '1 Family Res')\n",
    "\n",
    "data = data.drop(data[data['Property Class Name'] != '1 Family Res'].index)"
   ]
  },
  {
   "cell_type": "code",
   "execution_count": 9,
   "metadata": {},
   "outputs": [],
   "source": [
    "data.drop(columns='Property Class Name', inplace=True)"
   ]
  },
  {
   "cell_type": "code",
   "execution_count": 10,
   "metadata": {},
   "outputs": [
    {
     "name": "stdout",
     "output_type": "stream",
     "text": [
      "Total number of homes: 25336\n",
      "Total number of features: 15\n"
     ]
    }
   ],
   "source": [
    "# Note the after all but '1 Family Res' are removed above the total number of homes decreases from 25,964 to 25,336\n",
    "\n",
    "num_homes = data.shape[0]\n",
    "num_features = data.shape[1] - 1\n",
    "\n",
    "print(f\"Total number of homes: {num_homes}\")\n",
    "print(f\"Total number of features: {num_features}\")"
   ]
  },
  {
   "cell_type": "code",
   "execution_count": 11,
   "metadata": {},
   "outputs": [
    {
     "data": {
      "text/html": [
       "<div>\n",
       "<style scoped>\n",
       "    .dataframe tbody tr th:only-of-type {\n",
       "        vertical-align: middle;\n",
       "    }\n",
       "\n",
       "    .dataframe tbody tr th {\n",
       "        vertical-align: top;\n",
       "    }\n",
       "\n",
       "    .dataframe thead th {\n",
       "        text-align: right;\n",
       "    }\n",
       "</style>\n",
       "<table border=\"1\" class=\"dataframe\">\n",
       "  <thead>\n",
       "    <tr style=\"text-align: right;\">\n",
       "      <th></th>\n",
       "      <th>Floor Area</th>\n",
       "      <th>Acres</th>\n",
       "      <th>Year Built</th>\n",
       "      <th># Bedrooms</th>\n",
       "      <th># Bathrooms</th>\n",
       "      <th># Half Bathrooms</th>\n",
       "      <th># Fireplaces</th>\n",
       "      <th># Kitchens</th>\n",
       "      <th>Total Assessed Value</th>\n",
       "      <th>Land Assessed Value</th>\n",
       "      <th>Sale Price</th>\n",
       "    </tr>\n",
       "  </thead>\n",
       "  <tbody>\n",
       "    <tr>\n",
       "      <td>count</td>\n",
       "      <td>25333.000000</td>\n",
       "      <td>25336.000000</td>\n",
       "      <td>25333.000000</td>\n",
       "      <td>25333.000000</td>\n",
       "      <td>25333.000000</td>\n",
       "      <td>25333.000000</td>\n",
       "      <td>25333.000000</td>\n",
       "      <td>25333.000000</td>\n",
       "      <td>2.533600e+04</td>\n",
       "      <td>25336.000000</td>\n",
       "      <td>2.533600e+04</td>\n",
       "    </tr>\n",
       "    <tr>\n",
       "      <td>mean</td>\n",
       "      <td>1743.973276</td>\n",
       "      <td>0.466697</td>\n",
       "      <td>1967.722970</td>\n",
       "      <td>3.151265</td>\n",
       "      <td>1.603482</td>\n",
       "      <td>0.578179</td>\n",
       "      <td>0.633758</td>\n",
       "      <td>1.008961</td>\n",
       "      <td>1.729178e+05</td>\n",
       "      <td>34930.794798</td>\n",
       "      <td>1.755988e+05</td>\n",
       "    </tr>\n",
       "    <tr>\n",
       "      <td>std</td>\n",
       "      <td>632.864432</td>\n",
       "      <td>1.374307</td>\n",
       "      <td>29.494945</td>\n",
       "      <td>0.769410</td>\n",
       "      <td>0.656202</td>\n",
       "      <td>0.519037</td>\n",
       "      <td>0.604147</td>\n",
       "      <td>0.098337</td>\n",
       "      <td>9.961631e+04</td>\n",
       "      <td>19636.449695</td>\n",
       "      <td>2.004579e+05</td>\n",
       "    </tr>\n",
       "    <tr>\n",
       "      <td>min</td>\n",
       "      <td>0.000000</td>\n",
       "      <td>0.000000</td>\n",
       "      <td>1800.000000</td>\n",
       "      <td>0.000000</td>\n",
       "      <td>0.000000</td>\n",
       "      <td>0.000000</td>\n",
       "      <td>0.000000</td>\n",
       "      <td>0.000000</td>\n",
       "      <td>2.000000e+04</td>\n",
       "      <td>0.000000</td>\n",
       "      <td>1.000000e+04</td>\n",
       "    </tr>\n",
       "    <tr>\n",
       "      <td>25%</td>\n",
       "      <td>1312.000000</td>\n",
       "      <td>0.110000</td>\n",
       "      <td>1952.000000</td>\n",
       "      <td>3.000000</td>\n",
       "      <td>1.000000</td>\n",
       "      <td>0.000000</td>\n",
       "      <td>0.000000</td>\n",
       "      <td>1.000000</td>\n",
       "      <td>1.125000e+05</td>\n",
       "      <td>24500.000000</td>\n",
       "      <td>1.100000e+05</td>\n",
       "    </tr>\n",
       "    <tr>\n",
       "      <td>50%</td>\n",
       "      <td>1626.000000</td>\n",
       "      <td>0.280000</td>\n",
       "      <td>1966.000000</td>\n",
       "      <td>3.000000</td>\n",
       "      <td>2.000000</td>\n",
       "      <td>1.000000</td>\n",
       "      <td>1.000000</td>\n",
       "      <td>1.000000</td>\n",
       "      <td>1.440000e+05</td>\n",
       "      <td>30900.000000</td>\n",
       "      <td>1.459000e+05</td>\n",
       "    </tr>\n",
       "    <tr>\n",
       "      <td>75%</td>\n",
       "      <td>2033.000000</td>\n",
       "      <td>0.460000</td>\n",
       "      <td>1988.000000</td>\n",
       "      <td>4.000000</td>\n",
       "      <td>2.000000</td>\n",
       "      <td>1.000000</td>\n",
       "      <td>1.000000</td>\n",
       "      <td>1.000000</td>\n",
       "      <td>2.060000e+05</td>\n",
       "      <td>40500.000000</td>\n",
       "      <td>2.149000e+05</td>\n",
       "    </tr>\n",
       "    <tr>\n",
       "      <td>max</td>\n",
       "      <td>12862.000000</td>\n",
       "      <td>92.070000</td>\n",
       "      <td>2019.000000</td>\n",
       "      <td>10.000000</td>\n",
       "      <td>6.000000</td>\n",
       "      <td>5.000000</td>\n",
       "      <td>10.000000</td>\n",
       "      <td>4.000000</td>\n",
       "      <td>1.875000e+06</td>\n",
       "      <td>331100.000000</td>\n",
       "      <td>2.493292e+07</td>\n",
       "    </tr>\n",
       "  </tbody>\n",
       "</table>\n",
       "</div>"
      ],
      "text/plain": [
       "         Floor Area         Acres    Year Built    # Bedrooms   # Bathrooms  \\\n",
       "count  25333.000000  25336.000000  25333.000000  25333.000000  25333.000000   \n",
       "mean    1743.973276      0.466697   1967.722970      3.151265      1.603482   \n",
       "std      632.864432      1.374307     29.494945      0.769410      0.656202   \n",
       "min        0.000000      0.000000   1800.000000      0.000000      0.000000   \n",
       "25%     1312.000000      0.110000   1952.000000      3.000000      1.000000   \n",
       "50%     1626.000000      0.280000   1966.000000      3.000000      2.000000   \n",
       "75%     2033.000000      0.460000   1988.000000      4.000000      2.000000   \n",
       "max    12862.000000     92.070000   2019.000000     10.000000      6.000000   \n",
       "\n",
       "       # Half Bathrooms  # Fireplaces    # Kitchens  Total Assessed Value  \\\n",
       "count      25333.000000  25333.000000  25333.000000          2.533600e+04   \n",
       "mean           0.578179      0.633758      1.008961          1.729178e+05   \n",
       "std            0.519037      0.604147      0.098337          9.961631e+04   \n",
       "min            0.000000      0.000000      0.000000          2.000000e+04   \n",
       "25%            0.000000      0.000000      1.000000          1.125000e+05   \n",
       "50%            1.000000      1.000000      1.000000          1.440000e+05   \n",
       "75%            1.000000      1.000000      1.000000          2.060000e+05   \n",
       "max            5.000000     10.000000      4.000000          1.875000e+06   \n",
       "\n",
       "       Land Assessed Value    Sale Price  \n",
       "count         25336.000000  2.533600e+04  \n",
       "mean          34930.794798  1.755988e+05  \n",
       "std           19636.449695  2.004579e+05  \n",
       "min               0.000000  1.000000e+04  \n",
       "25%           24500.000000  1.100000e+05  \n",
       "50%           30900.000000  1.459000e+05  \n",
       "75%           40500.000000  2.149000e+05  \n",
       "max          331100.000000  2.493292e+07  "
      ]
     },
     "execution_count": 11,
     "metadata": {},
     "output_type": "execute_result"
    }
   ],
   "source": [
    "data.describe() # Describe the data after the inconsistent data removed\n",
    "\n",
    "# Note the increase in mean sale price after cleaning the data from $135,798.60 to $175,598.80"
   ]
  },
  {
   "cell_type": "code",
   "execution_count": 12,
   "metadata": {},
   "outputs": [],
   "source": [
    "data['Sale Date'] = data['Sale Date'].astype('datetime64[ns]') "
   ]
  },
  {
   "cell_type": "code",
   "execution_count": 13,
   "metadata": {},
   "outputs": [],
   "source": [
    "data['Building Style'] = data['Building Style'].astype('str') "
   ]
  },
  {
   "cell_type": "code",
   "execution_count": 14,
   "metadata": {},
   "outputs": [
    {
     "name": "stdout",
     "output_type": "stream",
     "text": [
      "City                            object\n",
      "Municipality                    object\n",
      "School Name                     object\n",
      "Building Style                  object\n",
      "Floor Area                     float64\n",
      "Acres                          float64\n",
      "Year Built                     float64\n",
      "# Bedrooms                     float64\n",
      "# Bathrooms                    float64\n",
      "# Half Bathrooms               float64\n",
      "# Fireplaces                   float64\n",
      "# Kitchens                     float64\n",
      "Total Assessed Value             int64\n",
      "Land Assessed Value              int64\n",
      "Sale Price                       int64\n",
      "Sale Date               datetime64[ns]\n",
      "dtype: object\n"
     ]
    }
   ],
   "source": [
    "print(data.dtypes)"
   ]
  },
  {
   "cell_type": "code",
   "execution_count": 15,
   "metadata": {},
   "outputs": [],
   "source": [
    "date = data.set_index('Sale Date').groupby(pd.Grouper(freq='M')).mean()"
   ]
  },
  {
   "cell_type": "code",
   "execution_count": 16,
   "metadata": {},
   "outputs": [
    {
     "name": "stderr",
     "output_type": "stream",
     "text": [
      "/Users/chris/opt/anaconda3/lib/python3.7/site-packages/pandas/plotting/_matplotlib/converter.py:103: FutureWarning: Using an implicitly registered datetime converter for a matplotlib plotting method. The converter was registered by pandas on import. Future versions of pandas will require you to explicitly register matplotlib converters.\n",
      "\n",
      "To register the converters:\n",
      "\t>>> from pandas.plotting import register_matplotlib_converters\n",
      "\t>>> register_matplotlib_converters()\n",
      "  warnings.warn(msg, FutureWarning)\n"
     ]
    },
    {
     "data": {
      "image/png": "[encoded data removed]",
      "text/plain": [
       "<Figure size 432x288 with 1 Axes>"
      ]
     },
     "metadata": {
      "needs_background": "light"
     },
     "output_type": "display_data"
    }
   ],
   "source": [
    "# Average Sale Price Per Month\n",
    "\n",
    "fig, ax = plt.subplots()\n",
    "ax.plot(date['Sale Price'], data=data)\n",
    "\n",
    "plt.title('Average Sale Price per Month')\n",
    "plt.xlabel('Month')\n",
    "plt.xticks(rotation=90)\n",
    "plt.ylabel('Average Sale Price')\n",
    "plt.ylim(150000, 220000)\n",
    "plt.show()"
   ]
  },
  {
   "cell_type": "code",
   "execution_count": 17,
   "metadata": {},
   "outputs": [
    {
     "name": "stdout",
     "output_type": "stream",
     "text": [
      "Statistics for Monroe County Home Sale Prices:\n",
      "\n",
      "Minimum price: $10000\n",
      "Maximum price: $24932924\n",
      "Mean price: $175598.85\n",
      "Median price $145900.0\n",
      "Standard deviation of prices: $200457.93\n"
     ]
    }
   ],
   "source": [
    "# Statistics for the dataset 'Sale Price' column\n",
    "\n",
    "# Minimum price of the data\n",
    "min_price = round(data['Sale Price'].min(), 2)\n",
    "\n",
    "# Maximum price of the data\n",
    "max_price = round(data['Sale Price'].max(), 2)\n",
    "\n",
    "# Mean price of the data\n",
    "mean_price = round(data['Sale Price'].mean(), 2)\n",
    "\n",
    "# Median price of the data\n",
    "med_price = round(data['Sale Price'].median(), 2)\n",
    "\n",
    "# Standard deviation of prices of the data\n",
    "std_price = round(data['Sale Price'].std(), 2)\n",
    "\n",
    "# Show the calculated statistics\n",
    "print(f'Statistics for Monroe County Home Sale Prices:\\n')\n",
    "print(f'Minimum price: ${min_price}') \n",
    "print(f'Maximum price: ${max_price}')\n",
    "print(f'Mean price: ${mean_price}')\n",
    "print(f'Median price ${med_price}')\n",
    "print(f'Standard deviation of prices: ${std_price}')"
   ]
  },
  {
   "cell_type": "code",
   "execution_count": 18,
   "metadata": {},
   "outputs": [
    {
     "data": {
      "text/plain": [
       "Text(0, 0.5, 'Count')"
      ]
     },
     "execution_count": 18,
     "metadata": {},
     "output_type": "execute_result"
    },
    {
     "data": {
      "image/png": "[encoded data removed]",
      "text/plain": [
       "<Figure size 432x288 with 1 Axes>"
      ]
     },
     "metadata": {
      "needs_background": "light"
     },
     "output_type": "display_data"
    }
   ],
   "source": [
    "# Number of bedrooms amongst houses in the data\n",
    "\n",
    "data['# Bedrooms'].value_counts().plot(kind='bar')\n",
    "plt.title('Number of Bedrooms')\n",
    "plt.xlabel('Bedrooms')\n",
    "plt.ylabel('Count')"
   ]
  },
  {
   "cell_type": "code",
   "execution_count": 19,
   "metadata": {},
   "outputs": [
    {
     "data": {
      "text/plain": [
       "Text(0, 0.5, 'Number of Houses')"
      ]
     },
     "execution_count": 19,
     "metadata": {},
     "output_type": "execute_result"
    },
    {
     "data": {
      "image/png": "[encoded data removed]",
      "text/plain": [
       "<Figure size 432x288 with 1 Axes>"
      ]
     },
     "metadata": {
      "needs_background": "light"
     },
     "output_type": "display_data"
    }
   ],
   "source": [
    "data['Municipality'].value_counts().plot(kind='bar')\n",
    "plt.title('Houses Sold per Municipality')\n",
    "plt.xlabel('Municipalities')\n",
    "plt.ylabel('Number of Houses')"
   ]
  },
  {
   "cell_type": "code",
   "execution_count": 20,
   "metadata": {},
   "outputs": [
    {
     "data": {
      "image/png": "[encoded data removed]",
      "text/plain": [
       "<Figure size 432x288 with 1 Axes>"
      ]
     },
     "metadata": {
      "needs_background": "light"
     },
     "output_type": "display_data"
    }
   ],
   "source": [
    "# Home Sale Price Per Municipality\n",
    "\n",
    "plt.scatter(data['Municipality'], data['Sale Price'])\n",
    "plt.title('Price vs Municipality')\n",
    "plt.xticks(rotation=90)  # To rotate the municilapilty name to vertical text\n",
    "plt.ylim(0,2000000)\n",
    "plt.show()"
   ]
  },
  {
   "cell_type": "code",
   "execution_count": 21,
   "metadata": {},
   "outputs": [
    {
     "data": {
      "text/plain": [
       "Text(0, 0.5, 'Average Sale Price')"
      ]
     },
     "execution_count": 21,
     "metadata": {},
     "output_type": "execute_result"
    },
    {
     "data": {
      "image/png": "[encoded data removed]",
      "text/plain": [
       "<Figure size 432x288 with 1 Axes>"
      ]
     },
     "metadata": {
      "needs_background": "light"
     },
     "output_type": "display_data"
    }
   ],
   "source": [
    "# Average Sale Price Per Municipality\n",
    "\n",
    "data.groupby('Municipality')['Sale Price'].mean().plot(kind='bar')\n",
    "plt.title('Average Sale Price per Municipality')\n",
    "plt.xlabel('Municipalities')\n",
    "plt.ylabel('Average Sale Price')\n"
   ]
  },
  {
   "cell_type": "code",
   "execution_count": 22,
   "metadata": {},
   "outputs": [
    {
     "data": {
      "text/plain": [
       "Text(0, 0.5, 'Average Sale Price')"
      ]
     },
     "execution_count": 22,
     "metadata": {},
     "output_type": "execute_result"
    },
    {
     "data": {
      "image/png": "[encoded data removed]",
      "text/plain": [
       "<Figure size 432x288 with 1 Axes>"
      ]
     },
     "metadata": {
      "needs_background": "light"
     },
     "output_type": "display_data"
    }
   ],
   "source": [
    "# Average Sale Price Per School\n",
    "\n",
    "data.groupby('School Name')['Sale Price'].mean().plot(kind='bar')\n",
    "plt.title('Average Sale Price per School District')\n",
    "plt.xlabel('School')\n",
    "plt.ylabel('Average Sale Price')"
   ]
  },
  {
   "cell_type": "code",
   "execution_count": 23,
   "metadata": {},
   "outputs": [
    {
     "data": {
      "text/plain": [
       "(0, 1000000)"
      ]
     },
     "execution_count": 23,
     "metadata": {},
     "output_type": "execute_result"
    },
    {
     "data": {
      "image/png": "[encoded data removed]",
      "text/plain": [
       "<Figure size 432x288 with 1 Axes>"
      ]
     },
     "metadata": {
      "needs_background": "light"
     },
     "output_type": "display_data"
    }
   ],
   "source": [
    "# Price vs. Year Built Graph\n",
    "\n",
    "plt.scatter(data['Year Built'], data['Sale Price'])\n",
    "plt.title('Price vs Year Built')\n",
    "plt.ylim(0, 1000000)"
   ]
  },
  {
   "cell_type": "code",
   "execution_count": 24,
   "metadata": {},
   "outputs": [
    {
     "data": {
      "image/png": "[encoded data removed]",
      "text/plain": [
       "<Figure size 432x288 with 1 Axes>"
      ]
     },
     "metadata": {
      "needs_background": "light"
     },
     "output_type": "display_data"
    }
   ],
   "source": [
    "# Sale Price vs. Number of Bedrooms Graph\n",
    "\n",
    "plt.scatter(data['# Bedrooms'], data['Sale Price'])\n",
    "plt.title('Sale Price vs # Bedrooms')\n",
    "plt.ylim(0,2000000)\n",
    "plt.show()"
   ]
  },
  {
   "cell_type": "code",
   "execution_count": 25,
   "metadata": {},
   "outputs": [
    {
     "data": {
      "text/plain": [
       "(0, 2000000)"
      ]
     },
     "execution_count": 25,
     "metadata": {},
     "output_type": "execute_result"
    },
    {
     "data": {
      "image/png": "[encoded data removed]",
      "text/plain": [
       "<Figure size 432x288 with 1 Axes>"
      ]
     },
     "metadata": {
      "needs_background": "light"
     },
     "output_type": "display_data"
    }
   ],
   "source": [
    "# Sale Price vs. Square Feet Graph\n",
    "\n",
    "plt.scatter(data['Floor Area'], data['Sale Price'])\n",
    "plt.title('Price vs Sq. Feet')\n",
    "plt.xlim(0,10000)\n",
    "plt.ylim(0,2000000)\n",
    "\n",
    "# Floor area is very lineal in relation to the sale price"
   ]
  },
  {
   "cell_type": "markdown",
   "metadata": {},
   "source": [
    "-------------------------------------------\n",
    "Prepare the data for predictive modeling\n",
    "-------------------------------------------"
   ]
  },
  {
   "cell_type": "code",
   "execution_count": 26,
   "metadata": {},
   "outputs": [
    {
     "name": "stdout",
     "output_type": "stream",
     "text": [
      "{'Municipality': {'Brighton': 0, 'Brockport': 1, 'Chili': 2, 'Churchville': 3, 'Clarkson': 4, 'East Rochester': 5, 'Fairport': 6, 'Gates': 7, 'Greece': 8, 'Hamlin': 9, 'Henrietta': 10, 'Hilton': 11, 'Honeoye Falls': 12, 'Irondequoit': 13, 'Mendon': 14, 'Ogden': 15, 'Parma': 16, 'Penfield': 17, 'Perinton': 18, 'Pittsford': 19, 'Riga': 20, 'Rush': 21, 'Scottsville': 22, 'Spencerport': 23, 'Sweden': 24, 'Webster': 25, 'Wheatland': 26}, 'School Name': {'Avon': 0, 'Brighton Central 1': 1, 'Brockport Central': 2, 'Byron Bergen': 3, 'Caledonia Mumford': 4, 'Churchville Chili': 5, 'E Irondequoit Cent 1': 6, 'East Roch Union Free': 7, 'Fairport Central': 8, 'Gates Chili Centl 1': 9, 'Greece Central': 10, 'Hilton Central': 11, 'Honeoye Falls Lima': 12, 'Kendall Central': 13, 'Penfield Central 1': 14, 'Pittsford Central': 15, 'Rush Henrietta Cent': 16, 'Spencerport Central': 17, 'Victor Central': 18, 'W Irondequoit Cent 3': 19, 'Wayne Central': 20, 'Webster Central': 21, 'Wheatland Chili 1': 22}}\n"
     ]
    }
   ],
   "source": [
    "# Convert the categorical columns into numeric values\n",
    "\n",
    "from sklearn import preprocessing\n",
    "\n",
    "le = preprocessing.LabelEncoder()\n",
    "conversion_cols =['Municipality', 'School Name'] \n",
    "\n",
    "\n",
    "# Use a dictionary to map the converted columns numbers to their prior categroical values\n",
    "converted_cols = {}\n",
    "for col in conversion_cols:\n",
    "    data[col] = le.fit_transform(data[col])\n",
    "    le_name_mapping = dict(zip(le.classes_, le.transform(le.classes_)))\n",
    "    converted_cols[col]=le_name_mapping\n",
    "print(converted_cols)\n",
    "\n"
   ]
  },
  {
   "cell_type": "code",
   "execution_count": 27,
   "metadata": {},
   "outputs": [],
   "source": [
    "data = data.dropna()"
   ]
  },
  {
   "cell_type": "code",
   "execution_count": 28,
   "metadata": {},
   "outputs": [],
   "source": [
    "target = data['Sale Price']\n",
    "data2 = data[['Year Built', 'Floor Area', 'Acres', 'Municipality', 'School Name', \n",
    "             '# Bedrooms', '# Bathrooms', '# Half Bathrooms']].copy() "
   ]
  },
  {
   "cell_type": "code",
   "execution_count": 29,
   "metadata": {},
   "outputs": [],
   "source": [
    "from sklearn.model_selection import train_test_split\n",
    "\n",
    "x_train , x_test , y_train , y_test = train_test_split(data2, target, test_size = 0.10, random_state =2)"
   ]
  },
  {
   "cell_type": "markdown",
   "metadata": {},
   "source": [
    "\n",
    "-------------------------------------------\n",
    "Modeling:\n",
    "-------------------------------------------"
   ]
  },
  {
   "cell_type": "markdown",
   "metadata": {},
   "source": [
    "--------------\n",
    "Regression Models\n",
    "-------------\n",
    "Since this is a numerical prediction the choice for modeling should be a regression model.  The models do back this up with a 70.86% accuracy on the GBR model"
   ]
  },
  {
   "cell_type": "markdown",
   "metadata": {},
   "source": [
    "--------------\n",
    "Linear Regression \n",
    "-------------\n",
    "Accuracy: 60.75%"
   ]
  },
  {
   "cell_type": "code",
   "execution_count": 30,
   "metadata": {},
   "outputs": [
    {
     "name": "stdout",
     "output_type": "stream",
     "text": [
      "0.602255917180527\n"
     ]
    }
   ],
   "source": [
    "from sklearn.linear_model import LinearRegression\n",
    "\n",
    "linreg = LinearRegression()\n",
    "linreg.fit(x_train,y_train)\n",
    "\n",
    "print(linreg.score(x_test,y_test))"
   ]
  },
  {
   "cell_type": "markdown",
   "metadata": {},
   "source": [
    "----\n",
    "Gradient Boosting Regressor\n",
    "----\n",
    "Accuracy: 70.68%"
   ]
  },
  {
   "cell_type": "code",
   "execution_count": 31,
   "metadata": {},
   "outputs": [
    {
     "name": "stdout",
     "output_type": "stream",
     "text": [
      "0.7066600996211326\n"
     ]
    }
   ],
   "source": [
    "from sklearn import ensemble\n",
    "\n",
    "gbr = ensemble.GradientBoostingRegressor()\n",
    "gbr.fit(x_train, y_train)\n",
    "\n",
    "print(gbr.score(x_test, y_test))"
   ]
  },
  {
   "cell_type": "code",
   "execution_count": 32,
   "metadata": {},
   "outputs": [
    {
     "name": "stdout",
     "output_type": "stream",
     "text": [
      "predicted response: [217794.87602727  94847.93137929 256755.34578993 ... 137247.84354234\n",
      " 274294.2774258  211737.00974683]\n"
     ]
    }
   ],
   "source": [
    "y_pred = gbr.predict(x_test)\n",
    "print('predicted response:', y_pred)"
   ]
  },
  {
   "cell_type": "code",
   "execution_count": 33,
   "metadata": {},
   "outputs": [
    {
     "name": "stdout",
     "output_type": "stream",
     "text": [
      "[130588.47117615]\n"
     ]
    }
   ],
   "source": [
    "# ['Year Built', 'Floor Area', 'Total Assessed Value', 'Acres', 'Municipality', 'School Name', \n",
    "#             '# Bedrooms', '# Bathrooms', '# Half Bathrooms']\n",
    "\n",
    "x_new_input = np.array([1970, 1700, 1, 2, 3, 1, 1, 1]).reshape((1, -1))\n",
    "\n",
    "y_new = gbr.predict(x_new_input)\n",
    "print(y_new)"
   ]
  },
  {
   "cell_type": "markdown",
   "metadata": {},
   "source": [
    "----\n",
    "Random Forrest Regressor\n",
    "----\n",
    "Accuracy: 66.95%"
   ]
  },
  {
   "cell_type": "code",
   "execution_count": 34,
   "metadata": {},
   "outputs": [],
   "source": [
    "from sklearn.preprocessing import StandardScaler\n",
    "\n",
    "scaler = StandardScaler()\n",
    "x_train = scaler.fit_transform(x_train)\n",
    "x_test = scaler.transform(x_test)"
   ]
  },
  {
   "cell_type": "code",
   "execution_count": 35,
   "metadata": {},
   "outputs": [
    {
     "name": "stdout",
     "output_type": "stream",
     "text": [
      "0.6695067054096344\n"
     ]
    }
   ],
   "source": [
    "from sklearn.ensemble import RandomForestRegressor\n",
    "\n",
    "rfreg = RandomForestRegressor(n_estimators=200, random_state=0)\n",
    "rfreg .fit(x_train, y_train)\n",
    "print(rfreg .score(x_test, y_test))"
   ]
  },
  {
   "cell_type": "markdown",
   "metadata": {},
   "source": [
    "----\n",
    "Decision Tree Regressor\n",
    "----\n",
    "Accuracy: 37.64%"
   ]
  },
  {
   "cell_type": "code",
   "execution_count": 36,
   "metadata": {},
   "outputs": [
    {
     "name": "stdout",
     "output_type": "stream",
     "text": [
      "36.60592975979139\n"
     ]
    }
   ],
   "source": [
    "from sklearn.tree import DecisionTreeRegressor\n",
    "\n",
    "dtr = DecisionTreeRegressor()\n",
    "dtr.fit(x_train, y_train)\n",
    "\n",
    "print(dtr.score(x_test, y_test) * 100)"
   ]
  },
  {
   "cell_type": "markdown",
   "metadata": {},
   "source": [
    "----\n",
    "XGBoost Regressor\n",
    "----\n",
    "Accuracy: 70.398%"
   ]
  },
  {
   "cell_type": "code",
   "execution_count": 37,
   "metadata": {},
   "outputs": [
    {
     "name": "stdout",
     "output_type": "stream",
     "text": [
      "[15:25:39] WARNING: src/objective/regression_obj.cu:152: reg:linear is now deprecated in favor of reg:squarederror.\n"
     ]
    },
    {
     "name": "stderr",
     "output_type": "stream",
     "text": [
      "/Users/chris/opt/anaconda3/lib/python3.7/site-packages/xgboost/core.py:587: FutureWarning: Series.base is deprecated and will be removed in a future version\n",
      "  if getattr(data, 'base', None) is not None and \\\n"
     ]
    },
    {
     "name": "stdout",
     "output_type": "stream",
     "text": [
      "0.7039818607910546\n"
     ]
    }
   ],
   "source": [
    "#import xgboost as xgb\n",
    "\n",
    "import xgboost as xgb\n",
    "xgbr = xgb.XGBRegressor()\n",
    "xgbr.fit(x_train, y_train)\n",
    "\n",
    "print(xgbr.score(x_test, y_test))"
   ]
  },
  {
   "cell_type": "markdown",
   "metadata": {},
   "source": [
    "----\n",
    "Classifier Models\n",
    "----\n",
    "As expected, the classifier models are poor performing since this is a numerical prediction"
   ]
  },
  {
   "cell_type": "markdown",
   "metadata": {},
   "source": [
    "----\n",
    "Decision Tree Classifier\n",
    "----\n",
    "Accuracy: 1.89%"
   ]
  },
  {
   "cell_type": "code",
   "execution_count": 38,
   "metadata": {},
   "outputs": [
    {
     "name": "stdout",
     "output_type": "stream",
     "text": [
      "0.018942383583267563\n"
     ]
    }
   ],
   "source": [
    "from sklearn import tree\n",
    "\n",
    "dtclf = tree.DecisionTreeClassifier(max_depth=2, min_samples_leaf = 100 )\n",
    "dtclf.fit(x_train, y_train)\n",
    "\n",
    "print(dtclf.score(x_test, y_test))"
   ]
  },
  {
   "cell_type": "markdown",
   "metadata": {},
   "source": [
    "----\n",
    "Random Forrest Classifier\n",
    "----\n",
    "Accuracy: 4.85%"
   ]
  },
  {
   "cell_type": "code",
   "execution_count": 39,
   "metadata": {},
   "outputs": [
    {
     "data": {
      "text/plain": [
       "0.04696132596685083"
      ]
     },
     "execution_count": 39,
     "metadata": {},
     "output_type": "execute_result"
    }
   ],
   "source": [
    "from sklearn.ensemble import RandomForestClassifier\n",
    "\n",
    "rfclf = RandomForestClassifier(n_estimators=20, random_state=0)\n",
    "rfclf.fit(x_train, y_train)\n",
    "rfclf.score(x_test, y_test)"
   ]
  },
  {
   "cell_type": "markdown",
   "metadata": {},
   "source": [
    "----\n",
    "Naive-Bayes\n",
    "----\n",
    "Accuracy: 0.67%"
   ]
  },
  {
   "cell_type": "code",
   "execution_count": 40,
   "metadata": {},
   "outputs": [
    {
     "name": "stdout",
     "output_type": "stream",
     "text": [
      "0.006314127861089187\n"
     ]
    }
   ],
   "source": [
    "from sklearn.naive_bayes import GaussianNB\n",
    "\n",
    "gnb = GaussianNB()\n",
    "gnb.fit(x_train, y_train)\n",
    "print(gnb.score(x_test, y_test))"
   ]
  },
  {
   "cell_type": "markdown",
   "metadata": {},
   "source": [
    "----\n",
    "KNeighbors\n",
    "----\n",
    "Accuracy: 2.29%"
   ]
  },
  {
   "cell_type": "code",
   "execution_count": 41,
   "metadata": {},
   "outputs": [
    {
     "name": "stdout",
     "output_type": "stream",
     "text": [
      "0.027624309392265192\n"
     ]
    }
   ],
   "source": [
    "from sklearn.neighbors import KNeighborsClassifier\n",
    "\n",
    "neigh = KNeighborsClassifier(n_neighbors=3)\n",
    "neigh.fit(x_train, y_train)\n",
    "\n",
    "print(neigh.score(x_test, y_test))"
   ]
  }
 ],
 "metadata": {
  "kernelspec": {
   "display_name": "Python 3",
   "language": "python",
   "name": "python3"
  },
  "language_info": {
   "codemirror_mode": {
    "name": "ipython",
    "version": 3
   },
   "file_extension": ".py",
   "mimetype": "text/x-python",
   "name": "python",
   "nbconvert_exporter": "python",
   "pygments_lexer": "ipython3",
   "version": "3.7.4"
  }
 },
 "nbformat": 4,
 "nbformat_minor": 2
}
